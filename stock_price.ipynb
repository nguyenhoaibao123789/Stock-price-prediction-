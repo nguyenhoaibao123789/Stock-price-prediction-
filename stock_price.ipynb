{
  "nbformat": 4,
  "nbformat_minor": 0,
  "metadata": {
    "colab": {
      "name": "đồ_án.ipynb",
      "provenance": [],
      "collapsed_sections": []
    },
    "kernelspec": {
      "name": "python3",
      "display_name": "Python 3"
    },
    "language_info": {
      "name": "python"
    },
    "accelerator": "GPU"
  },
  "cells": [
    {
      "cell_type": "code",
      "metadata": {
        "id": "Ye7uZAmB4Wi3"
      },
      "source": [
        "#import \n",
        "import pandas as pd \n",
        "import numpy as np\n",
        "import matplotlib.pyplot as plt\n",
        "from sklearn.ensemble import RandomForestRegressor\n",
        "from sklearn.model_selection import train_test_split\n",
        "from sklearn.preprocessing import MinMaxScaler\n",
        "from sklearn.metrics import mean_squared_log_error, mean_absolute_error\n",
        "from sklearn.svm import SVR\n",
        "from sklearn.model_selection import GridSearchCV\n",
        "from tensorflow.keras.layers import LSTM\n",
        "from keras.models import Sequential\n",
        "from keras.layers import Dense\n",
        "import tensorflow as tf\n"
      ],
      "execution_count": null,
      "outputs": []
    },
    {
      "cell_type": "code",
      "metadata": {
        "id": "vW_jPaRfOCV3"
      },
      "source": [
        "#load data \n",
        "df= pd.read_csv('/content/stock_data.csv',low_memory=False,\n",
        "                 parse_dates=[\"Date\"],index_col=\"Date\")"
      ],
      "execution_count": null,
      "outputs": []
    },
    {
      "cell_type": "markdown",
      "source": [
        ""
      ],
      "metadata": {
        "id": "l1q3Ganixl99"
      }
    },
    {
      "cell_type": "code",
      "metadata": {
        "colab": {
          "base_uri": "https://localhost:8080/",
          "height": 394
        },
        "id": "EajL3UkN67BJ",
        "outputId": "f049bfe1-65ed-4634-ff47-9b438328fa14"
      },
      "source": [
        "# chỉ sử dụng cổ phiếu của TSLA\n",
        "data = df[df['Stock']=='TSLA'].copy()\n",
        "data.sort_index() # sắp xếp theo index\n",
        "data.head(10)"
      ],
      "execution_count": null,
      "outputs": [
        {
          "output_type": "execute_result",
          "data": {
            "text/html": [
              "\n",
              "  <div id=\"df-ef129fd1-6696-464b-87a5-d7e134f7d36a\">\n",
              "    <div class=\"colab-df-container\">\n",
              "      <div>\n",
              "<style scoped>\n",
              "    .dataframe tbody tr th:only-of-type {\n",
              "        vertical-align: middle;\n",
              "    }\n",
              "\n",
              "    .dataframe tbody tr th {\n",
              "        vertical-align: top;\n",
              "    }\n",
              "\n",
              "    .dataframe thead th {\n",
              "        text-align: right;\n",
              "    }\n",
              "</style>\n",
              "<table border=\"1\" class=\"dataframe\">\n",
              "  <thead>\n",
              "    <tr style=\"text-align: right;\">\n",
              "      <th></th>\n",
              "      <th>Open</th>\n",
              "      <th>High</th>\n",
              "      <th>Low</th>\n",
              "      <th>Close</th>\n",
              "      <th>Volume</th>\n",
              "      <th>OpenInt</th>\n",
              "      <th>Stock</th>\n",
              "    </tr>\n",
              "    <tr>\n",
              "      <th>Date</th>\n",
              "      <th></th>\n",
              "      <th></th>\n",
              "      <th></th>\n",
              "      <th></th>\n",
              "      <th></th>\n",
              "      <th></th>\n",
              "      <th></th>\n",
              "    </tr>\n",
              "  </thead>\n",
              "  <tbody>\n",
              "    <tr>\n",
              "      <th>2010-06-28</th>\n",
              "      <td>17.00</td>\n",
              "      <td>17.00</td>\n",
              "      <td>17.00</td>\n",
              "      <td>17.00</td>\n",
              "      <td>0</td>\n",
              "      <td>0</td>\n",
              "      <td>TSLA</td>\n",
              "    </tr>\n",
              "    <tr>\n",
              "      <th>2010-06-29</th>\n",
              "      <td>19.00</td>\n",
              "      <td>25.00</td>\n",
              "      <td>17.54</td>\n",
              "      <td>23.89</td>\n",
              "      <td>18783276</td>\n",
              "      <td>0</td>\n",
              "      <td>TSLA</td>\n",
              "    </tr>\n",
              "    <tr>\n",
              "      <th>2010-06-30</th>\n",
              "      <td>25.79</td>\n",
              "      <td>30.42</td>\n",
              "      <td>23.30</td>\n",
              "      <td>23.83</td>\n",
              "      <td>17194394</td>\n",
              "      <td>0</td>\n",
              "      <td>TSLA</td>\n",
              "    </tr>\n",
              "    <tr>\n",
              "      <th>2010-07-01</th>\n",
              "      <td>25.00</td>\n",
              "      <td>25.92</td>\n",
              "      <td>20.27</td>\n",
              "      <td>21.96</td>\n",
              "      <td>8229863</td>\n",
              "      <td>0</td>\n",
              "      <td>TSLA</td>\n",
              "    </tr>\n",
              "    <tr>\n",
              "      <th>2010-07-02</th>\n",
              "      <td>23.00</td>\n",
              "      <td>23.10</td>\n",
              "      <td>18.71</td>\n",
              "      <td>19.20</td>\n",
              "      <td>5141807</td>\n",
              "      <td>0</td>\n",
              "      <td>TSLA</td>\n",
              "    </tr>\n",
              "    <tr>\n",
              "      <th>2010-07-06</th>\n",
              "      <td>20.00</td>\n",
              "      <td>20.00</td>\n",
              "      <td>15.83</td>\n",
              "      <td>16.11</td>\n",
              "      <td>6879296</td>\n",
              "      <td>0</td>\n",
              "      <td>TSLA</td>\n",
              "    </tr>\n",
              "    <tr>\n",
              "      <th>2010-07-07</th>\n",
              "      <td>16.40</td>\n",
              "      <td>16.63</td>\n",
              "      <td>14.98</td>\n",
              "      <td>15.80</td>\n",
              "      <td>6924914</td>\n",
              "      <td>0</td>\n",
              "      <td>TSLA</td>\n",
              "    </tr>\n",
              "    <tr>\n",
              "      <th>2010-07-08</th>\n",
              "      <td>16.14</td>\n",
              "      <td>17.52</td>\n",
              "      <td>15.57</td>\n",
              "      <td>17.46</td>\n",
              "      <td>7719539</td>\n",
              "      <td>0</td>\n",
              "      <td>TSLA</td>\n",
              "    </tr>\n",
              "    <tr>\n",
              "      <th>2010-07-09</th>\n",
              "      <td>17.58</td>\n",
              "      <td>17.90</td>\n",
              "      <td>16.55</td>\n",
              "      <td>17.40</td>\n",
              "      <td>4058606</td>\n",
              "      <td>0</td>\n",
              "      <td>TSLA</td>\n",
              "    </tr>\n",
              "    <tr>\n",
              "      <th>2010-07-12</th>\n",
              "      <td>17.95</td>\n",
              "      <td>18.07</td>\n",
              "      <td>17.00</td>\n",
              "      <td>17.05</td>\n",
              "      <td>2203570</td>\n",
              "      <td>0</td>\n",
              "      <td>TSLA</td>\n",
              "    </tr>\n",
              "  </tbody>\n",
              "</table>\n",
              "</div>\n",
              "      <button class=\"colab-df-convert\" onclick=\"convertToInteractive('df-ef129fd1-6696-464b-87a5-d7e134f7d36a')\"\n",
              "              title=\"Convert this dataframe to an interactive table.\"\n",
              "              style=\"display:none;\">\n",
              "        \n",
              "  <svg xmlns=\"http://www.w3.org/2000/svg\" height=\"24px\"viewBox=\"0 0 24 24\"\n",
              "       width=\"24px\">\n",
              "    <path d=\"M0 0h24v24H0V0z\" fill=\"none\"/>\n",
              "    <path d=\"M18.56 5.44l.94 2.06.94-2.06 2.06-.94-2.06-.94-.94-2.06-.94 2.06-2.06.94zm-11 1L8.5 8.5l.94-2.06 2.06-.94-2.06-.94L8.5 2.5l-.94 2.06-2.06.94zm10 10l.94 2.06.94-2.06 2.06-.94-2.06-.94-.94-2.06-.94 2.06-2.06.94z\"/><path d=\"M17.41 7.96l-1.37-1.37c-.4-.4-.92-.59-1.43-.59-.52 0-1.04.2-1.43.59L10.3 9.45l-7.72 7.72c-.78.78-.78 2.05 0 2.83L4 21.41c.39.39.9.59 1.41.59.51 0 1.02-.2 1.41-.59l7.78-7.78 2.81-2.81c.8-.78.8-2.07 0-2.86zM5.41 20L4 18.59l7.72-7.72 1.47 1.35L5.41 20z\"/>\n",
              "  </svg>\n",
              "      </button>\n",
              "      \n",
              "  <style>\n",
              "    .colab-df-container {\n",
              "      display:flex;\n",
              "      flex-wrap:wrap;\n",
              "      gap: 12px;\n",
              "    }\n",
              "\n",
              "    .colab-df-convert {\n",
              "      background-color: #E8F0FE;\n",
              "      border: none;\n",
              "      border-radius: 50%;\n",
              "      cursor: pointer;\n",
              "      display: none;\n",
              "      fill: #1967D2;\n",
              "      height: 32px;\n",
              "      padding: 0 0 0 0;\n",
              "      width: 32px;\n",
              "    }\n",
              "\n",
              "    .colab-df-convert:hover {\n",
              "      background-color: #E2EBFA;\n",
              "      box-shadow: 0px 1px 2px rgba(60, 64, 67, 0.3), 0px 1px 3px 1px rgba(60, 64, 67, 0.15);\n",
              "      fill: #174EA6;\n",
              "    }\n",
              "\n",
              "    [theme=dark] .colab-df-convert {\n",
              "      background-color: #3B4455;\n",
              "      fill: #D2E3FC;\n",
              "    }\n",
              "\n",
              "    [theme=dark] .colab-df-convert:hover {\n",
              "      background-color: #434B5C;\n",
              "      box-shadow: 0px 1px 3px 1px rgba(0, 0, 0, 0.15);\n",
              "      filter: drop-shadow(0px 1px 2px rgba(0, 0, 0, 0.3));\n",
              "      fill: #FFFFFF;\n",
              "    }\n",
              "  </style>\n",
              "\n",
              "      <script>\n",
              "        const buttonEl =\n",
              "          document.querySelector('#df-ef129fd1-6696-464b-87a5-d7e134f7d36a button.colab-df-convert');\n",
              "        buttonEl.style.display =\n",
              "          google.colab.kernel.accessAllowed ? 'block' : 'none';\n",
              "\n",
              "        async function convertToInteractive(key) {\n",
              "          const element = document.querySelector('#df-ef129fd1-6696-464b-87a5-d7e134f7d36a');\n",
              "          const dataTable =\n",
              "            await google.colab.kernel.invokeFunction('convertToInteractive',\n",
              "                                                     [key], {});\n",
              "          if (!dataTable) return;\n",
              "\n",
              "          const docLinkHtml = 'Like what you see? Visit the ' +\n",
              "            '<a target=\"_blank\" href=https://colab.research.google.com/notebooks/data_table.ipynb>data table notebook</a>'\n",
              "            + ' to learn more about interactive tables.';\n",
              "          element.innerHTML = '';\n",
              "          dataTable['output_type'] = 'display_data';\n",
              "          await google.colab.output.renderOutput(dataTable, element);\n",
              "          const docLink = document.createElement('div');\n",
              "          docLink.innerHTML = docLinkHtml;\n",
              "          element.appendChild(docLink);\n",
              "        }\n",
              "      </script>\n",
              "    </div>\n",
              "  </div>\n",
              "  "
            ],
            "text/plain": [
              "             Open   High    Low  Close    Volume  OpenInt Stock\n",
              "Date                                                           \n",
              "2010-06-28  17.00  17.00  17.00  17.00         0        0  TSLA\n",
              "2010-06-29  19.00  25.00  17.54  23.89  18783276        0  TSLA\n",
              "2010-06-30  25.79  30.42  23.30  23.83  17194394        0  TSLA\n",
              "2010-07-01  25.00  25.92  20.27  21.96   8229863        0  TSLA\n",
              "2010-07-02  23.00  23.10  18.71  19.20   5141807        0  TSLA\n",
              "2010-07-06  20.00  20.00  15.83  16.11   6879296        0  TSLA\n",
              "2010-07-07  16.40  16.63  14.98  15.80   6924914        0  TSLA\n",
              "2010-07-08  16.14  17.52  15.57  17.46   7719539        0  TSLA\n",
              "2010-07-09  17.58  17.90  16.55  17.40   4058606        0  TSLA\n",
              "2010-07-12  17.95  18.07  17.00  17.05   2203570        0  TSLA"
            ]
          },
          "metadata": {},
          "execution_count": 3
        }
      ]
    },
    {
      "cell_type": "code",
      "metadata": {
        "colab": {
          "base_uri": "https://localhost:8080/"
        },
        "id": "m4bDvSu4MTZL",
        "outputId": "cb801899-7200-46bb-fca0-4a489bcaea87"
      },
      "source": [
        "#check Na values\n",
        "data.isna().sum()"
      ],
      "execution_count": null,
      "outputs": [
        {
          "output_type": "execute_result",
          "data": {
            "text/plain": [
              "Open       0\n",
              "High       0\n",
              "Low        0\n",
              "Close      0\n",
              "Volume     0\n",
              "OpenInt    0\n",
              "Stock      0\n",
              "dtype: int64"
            ]
          },
          "metadata": {},
          "execution_count": 4
        }
      ]
    },
    {
      "cell_type": "code",
      "metadata": {
        "colab": {
          "base_uri": "https://localhost:8080/"
        },
        "id": "TOqXSyjwMX5q",
        "outputId": "155aa7c9-46e6-494c-c34e-35997e0f9b7a"
      },
      "source": [
        "# xem info của data\n",
        "data.info()"
      ],
      "execution_count": null,
      "outputs": [
        {
          "output_type": "stream",
          "name": "stdout",
          "text": [
            "<class 'pandas.core.frame.DataFrame'>\n",
            "DatetimeIndex: 1858 entries, 2010-06-28 to 2017-11-10\n",
            "Data columns (total 7 columns):\n",
            " #   Column   Non-Null Count  Dtype  \n",
            "---  ------   --------------  -----  \n",
            " 0   Open     1858 non-null   float64\n",
            " 1   High     1858 non-null   float64\n",
            " 2   Low      1858 non-null   float64\n",
            " 3   Close    1858 non-null   float64\n",
            " 4   Volume   1858 non-null   int64  \n",
            " 5   OpenInt  1858 non-null   int64  \n",
            " 6   Stock    1858 non-null   object \n",
            "dtypes: float64(4), int64(2), object(1)\n",
            "memory usage: 116.1+ KB\n"
          ]
        }
      ]
    },
    {
      "cell_type": "code",
      "metadata": {
        "id": "a3g698-u7AFd"
      },
      "source": [
        "# không dùng 3 cột này \n",
        "data.drop(columns=['OpenInt','Volume','Stock'],axis=1,inplace =True)"
      ],
      "execution_count": null,
      "outputs": []
    },
    {
      "cell_type": "code",
      "metadata": {
        "id": "qw4g4Fnn6cug"
      },
      "source": [
        "scaler = MinMaxScaler()\n",
        "X=data.drop(\"Close\",axis=1)\n",
        "y=data['Close']"
      ],
      "execution_count": null,
      "outputs": []
    },
    {
      "cell_type": "code",
      "metadata": {
        "id": "AFoJa9n_6qxl"
      },
      "source": [
        "X=scaler.fit_transform(X)"
      ],
      "execution_count": null,
      "outputs": []
    },
    {
      "cell_type": "code",
      "metadata": {
        "id": "p0S8_Ec3649l"
      },
      "source": [
        "X_train, X_test, y_train, y_test = train_test_split(X, y, test_size=0.2, random_state=42,shuffle=False)"
      ],
      "execution_count": null,
      "outputs": []
    },
    {
      "cell_type": "code",
      "metadata": {
        "id": "02mTUz5m7ap0"
      },
      "source": [
        "# hàm đánh giá mô hình\n",
        "def rmsle(y_test, y_preds):\n",
        "    return np.sqrt(mean_squared_log_error(y_test, y_preds))\n",
        "def show_scores(model):\n",
        "    train_preds = model.predict(X_train)\n",
        "    test_preds = model.predict(X_test)\n",
        "    scores = {\"Training MAE\": mean_absolute_error(y_train, train_preds),\n",
        "              \"Test MAE\": mean_absolute_error(y_test, test_preds),\n",
        "              \"Training RMSLE\": rmsle(y_train, train_preds),\n",
        "              \"Test RMSLE\": rmsle(y_test, test_preds),\n",
        "              \"Training R^2\": model.score(X_train, y_train),\n",
        "              \"Test R^2\": model.score(X_test, y_test)}\n",
        "    return scores"
      ],
      "execution_count": null,
      "outputs": []
    },
    {
      "cell_type": "code",
      "metadata": {
        "id": "XQuX7LOZgQzk"
      },
      "source": [
        "# dùng gridsearch cho SVR\n",
        "parameters = {'kernel': ('linear', 'rbf','poly'), 'C':[1.5, 10],'gamma': [1e-7, 1e-4],'epsilon':[0.1,0.2,0.5,0.3]}\n",
        "svr = SVR()\n",
        "svr_model = GridSearchCV(svr, parameters, cv=5,\n",
        "                              verbose=True)\n",
        "svr_model.fit(X_train,y_train)"
      ],
      "execution_count": null,
      "outputs": []
    },
    {
      "cell_type": "code",
      "metadata": {
        "id": "n1shX6Inlr1a"
      },
      "source": [
        "svr_model.best_params_"
      ],
      "execution_count": null,
      "outputs": []
    },
    {
      "cell_type": "code",
      "metadata": {
        "colab": {
          "base_uri": "https://localhost:8080/",
          "height": 238
        },
        "id": "lVKgteuWAga6",
        "outputId": "ce68904e-f678-4a0e-9337-83207afb1a83"
      },
      "source": [
        "svr_pred=svr_model.predict(X_test)\n",
        "svr_pred_df = pd.DataFrame({'Actual': y_test, 'Predicted': svr_pred})\n",
        "svr_pred_df.head()"
      ],
      "execution_count": null,
      "outputs": [
        {
          "output_type": "execute_result",
          "data": {
            "text/html": [
              "\n",
              "  <div id=\"df-8cbda72a-ce2c-4ac1-93b6-eec61f7a6fe1\">\n",
              "    <div class=\"colab-df-container\">\n",
              "      <div>\n",
              "<style scoped>\n",
              "    .dataframe tbody tr th:only-of-type {\n",
              "        vertical-align: middle;\n",
              "    }\n",
              "\n",
              "    .dataframe tbody tr th {\n",
              "        vertical-align: top;\n",
              "    }\n",
              "\n",
              "    .dataframe thead th {\n",
              "        text-align: right;\n",
              "    }\n",
              "</style>\n",
              "<table border=\"1\" class=\"dataframe\">\n",
              "  <thead>\n",
              "    <tr style=\"text-align: right;\">\n",
              "      <th></th>\n",
              "      <th>Actual</th>\n",
              "      <th>Predicted</th>\n",
              "    </tr>\n",
              "    <tr>\n",
              "      <th>Date</th>\n",
              "      <th></th>\n",
              "      <th></th>\n",
              "    </tr>\n",
              "  </thead>\n",
              "  <tbody>\n",
              "    <tr>\n",
              "      <th>2016-05-24</th>\n",
              "      <td>217.91</td>\n",
              "      <td>216.608491</td>\n",
              "    </tr>\n",
              "    <tr>\n",
              "      <th>2016-05-25</th>\n",
              "      <td>219.58</td>\n",
              "      <td>218.403426</td>\n",
              "    </tr>\n",
              "    <tr>\n",
              "      <th>2016-05-26</th>\n",
              "      <td>225.12</td>\n",
              "      <td>221.450828</td>\n",
              "    </tr>\n",
              "    <tr>\n",
              "      <th>2016-05-27</th>\n",
              "      <td>223.04</td>\n",
              "      <td>223.511223</td>\n",
              "    </tr>\n",
              "    <tr>\n",
              "      <th>2016-05-31</th>\n",
              "      <td>223.23</td>\n",
              "      <td>222.837909</td>\n",
              "    </tr>\n",
              "  </tbody>\n",
              "</table>\n",
              "</div>\n",
              "      <button class=\"colab-df-convert\" onclick=\"convertToInteractive('df-8cbda72a-ce2c-4ac1-93b6-eec61f7a6fe1')\"\n",
              "              title=\"Convert this dataframe to an interactive table.\"\n",
              "              style=\"display:none;\">\n",
              "        \n",
              "  <svg xmlns=\"http://www.w3.org/2000/svg\" height=\"24px\"viewBox=\"0 0 24 24\"\n",
              "       width=\"24px\">\n",
              "    <path d=\"M0 0h24v24H0V0z\" fill=\"none\"/>\n",
              "    <path d=\"M18.56 5.44l.94 2.06.94-2.06 2.06-.94-2.06-.94-.94-2.06-.94 2.06-2.06.94zm-11 1L8.5 8.5l.94-2.06 2.06-.94-2.06-.94L8.5 2.5l-.94 2.06-2.06.94zm10 10l.94 2.06.94-2.06 2.06-.94-2.06-.94-.94-2.06-.94 2.06-2.06.94z\"/><path d=\"M17.41 7.96l-1.37-1.37c-.4-.4-.92-.59-1.43-.59-.52 0-1.04.2-1.43.59L10.3 9.45l-7.72 7.72c-.78.78-.78 2.05 0 2.83L4 21.41c.39.39.9.59 1.41.59.51 0 1.02-.2 1.41-.59l7.78-7.78 2.81-2.81c.8-.78.8-2.07 0-2.86zM5.41 20L4 18.59l7.72-7.72 1.47 1.35L5.41 20z\"/>\n",
              "  </svg>\n",
              "      </button>\n",
              "      \n",
              "  <style>\n",
              "    .colab-df-container {\n",
              "      display:flex;\n",
              "      flex-wrap:wrap;\n",
              "      gap: 12px;\n",
              "    }\n",
              "\n",
              "    .colab-df-convert {\n",
              "      background-color: #E8F0FE;\n",
              "      border: none;\n",
              "      border-radius: 50%;\n",
              "      cursor: pointer;\n",
              "      display: none;\n",
              "      fill: #1967D2;\n",
              "      height: 32px;\n",
              "      padding: 0 0 0 0;\n",
              "      width: 32px;\n",
              "    }\n",
              "\n",
              "    .colab-df-convert:hover {\n",
              "      background-color: #E2EBFA;\n",
              "      box-shadow: 0px 1px 2px rgba(60, 64, 67, 0.3), 0px 1px 3px 1px rgba(60, 64, 67, 0.15);\n",
              "      fill: #174EA6;\n",
              "    }\n",
              "\n",
              "    [theme=dark] .colab-df-convert {\n",
              "      background-color: #3B4455;\n",
              "      fill: #D2E3FC;\n",
              "    }\n",
              "\n",
              "    [theme=dark] .colab-df-convert:hover {\n",
              "      background-color: #434B5C;\n",
              "      box-shadow: 0px 1px 3px 1px rgba(0, 0, 0, 0.15);\n",
              "      filter: drop-shadow(0px 1px 2px rgba(0, 0, 0, 0.3));\n",
              "      fill: #FFFFFF;\n",
              "    }\n",
              "  </style>\n",
              "\n",
              "      <script>\n",
              "        const buttonEl =\n",
              "          document.querySelector('#df-8cbda72a-ce2c-4ac1-93b6-eec61f7a6fe1 button.colab-df-convert');\n",
              "        buttonEl.style.display =\n",
              "          google.colab.kernel.accessAllowed ? 'block' : 'none';\n",
              "\n",
              "        async function convertToInteractive(key) {\n",
              "          const element = document.querySelector('#df-8cbda72a-ce2c-4ac1-93b6-eec61f7a6fe1');\n",
              "          const dataTable =\n",
              "            await google.colab.kernel.invokeFunction('convertToInteractive',\n",
              "                                                     [key], {});\n",
              "          if (!dataTable) return;\n",
              "\n",
              "          const docLinkHtml = 'Like what you see? Visit the ' +\n",
              "            '<a target=\"_blank\" href=https://colab.research.google.com/notebooks/data_table.ipynb>data table notebook</a>'\n",
              "            + ' to learn more about interactive tables.';\n",
              "          element.innerHTML = '';\n",
              "          dataTable['output_type'] = 'display_data';\n",
              "          await google.colab.output.renderOutput(dataTable, element);\n",
              "          const docLink = document.createElement('div');\n",
              "          docLink.innerHTML = docLinkHtml;\n",
              "          element.appendChild(docLink);\n",
              "        }\n",
              "      </script>\n",
              "    </div>\n",
              "  </div>\n",
              "  "
            ],
            "text/plain": [
              "            Actual   Predicted\n",
              "Date                          \n",
              "2016-05-24  217.91  216.608491\n",
              "2016-05-25  219.58  218.403426\n",
              "2016-05-26  225.12  221.450828\n",
              "2016-05-27  223.04  223.511223\n",
              "2016-05-31  223.23  222.837909"
            ]
          },
          "metadata": {},
          "execution_count": 13
        }
      ]
    },
    {
      "cell_type": "code",
      "metadata": {
        "colab": {
          "base_uri": "https://localhost:8080/",
          "height": 490
        },
        "id": "0RqNATLS8ZZO",
        "outputId": "3d15a18f-c40d-48aa-8f2f-39acd0663f91"
      },
      "source": [
        "plt.figure(figsize=(8,8))\n",
        "svr_pred_df['Actual'].plot()\n",
        "svr_pred_df['Predicted'].plot()\n",
        "plt.legend(['Actual Value', 'Predictions'])"
      ],
      "execution_count": null,
      "outputs": [
        {
          "output_type": "execute_result",
          "data": {
            "text/plain": [
              "<matplotlib.legend.Legend at 0x7f52ce99e390>"
            ]
          },
          "metadata": {},
          "execution_count": 14
        },
        {
          "output_type": "display_data",
          "data": {
            "image/png": "[encoded data removed]",
            "text/plain": [
              "<Figure size 576x576 with 1 Axes>"
            ]
          },
          "metadata": {
            "needs_background": "light"
          }
        }
      ]
    },
    {
      "cell_type": "code",
      "metadata": {
        "colab": {
          "base_uri": "https://localhost:8080/"
        },
        "id": "AUG0RRqzmVkJ",
        "outputId": "b314ad46-51af-4866-b223-5b60578630b8"
      },
      "source": [
        "show_scores(svr_model)"
      ],
      "execution_count": null,
      "outputs": [
        {
          "output_type": "execute_result",
          "data": {
            "text/plain": [
              "{'Test MAE': 2.581232148649025,\n",
              " 'Test RMSLE': 0.012119431317346718,\n",
              " 'Test R^2': 0.9969372192996562,\n",
              " 'Training MAE': 1.4458757820772756,\n",
              " 'Training RMSLE': 0.02021013007546908,\n",
              " 'Training R^2': 0.9993894850198153}"
            ]
          },
          "metadata": {},
          "execution_count": 15
        }
      ]
    },
    {
      "cell_type": "code",
      "metadata": {
        "id": "qbiHbEi88oZd"
      },
      "source": [
        "rf_grid = {\"n_estimators\": np.arange(10, 50, 10),\n",
        "           \"max_depth\": [ 3, 5, 10],\n",
        "           \"min_samples_split\": np.arange(2, 5, 2),\n",
        "           \"min_samples_leaf\": np.arange(1, 5, 2),\n",
        "           \"max_features\": [0.5, 1, \"sqrt\", \"auto\"],\n",
        "           \"max_samples\": [100,200,300]}\n",
        "rs_model = GridSearchCV(RandomForestRegressor(),rf_grid,\n",
        "                              cv=5,\n",
        "                              verbose=True)\n",
        "rs_model.fit(X_train,y_train)"
      ],
      "execution_count": null,
      "outputs": []
    },
    {
      "cell_type": "code",
      "metadata": {
        "id": "eRe4ElR7_eTI",
        "colab": {
          "base_uri": "https://localhost:8080/"
        },
        "outputId": "27b4203c-a68a-4d42-b468-4ead566d02b4"
      },
      "source": [
        "rs_model.best_params_"
      ],
      "execution_count": null,
      "outputs": [
        {
          "output_type": "execute_result",
          "data": {
            "text/plain": [
              "{'max_depth': 10,\n",
              " 'max_features': 'auto',\n",
              " 'max_samples': 300,\n",
              " 'min_samples_leaf': 1,\n",
              " 'min_samples_split': 2,\n",
              " 'n_estimators': 20}"
            ]
          },
          "metadata": {},
          "execution_count": 17
        }
      ]
    },
    {
      "cell_type": "code",
      "metadata": {
        "colab": {
          "base_uri": "https://localhost:8080/",
          "height": 238
        },
        "id": "j39znlxbxgpq",
        "outputId": "c998b6ed-94cd-4876-9a54-c272d61c3d7f"
      },
      "source": [
        "y_RF_pred= rs_model.predict(X_test)\n",
        "pred_RF_df = pd.DataFrame({'Actual': y_test, 'Predicted': y_RF_pred})\n",
        "pred_RF_df.head()"
      ],
      "execution_count": null,
      "outputs": [
        {
          "output_type": "execute_result",
          "data": {
            "text/html": [
              "\n",
              "  <div id=\"df-bdde62c6-6634-4e2a-94cd-c6b4936a695d\">\n",
              "    <div class=\"colab-df-container\">\n",
              "      <div>\n",
              "<style scoped>\n",
              "    .dataframe tbody tr th:only-of-type {\n",
              "        vertical-align: middle;\n",
              "    }\n",
              "\n",
              "    .dataframe tbody tr th {\n",
              "        vertical-align: top;\n",
              "    }\n",
              "\n",
              "    .dataframe thead th {\n",
              "        text-align: right;\n",
              "    }\n",
              "</style>\n",
              "<table border=\"1\" class=\"dataframe\">\n",
              "  <thead>\n",
              "    <tr style=\"text-align: right;\">\n",
              "      <th></th>\n",
              "      <th>Actual</th>\n",
              "      <th>Predicted</th>\n",
              "    </tr>\n",
              "    <tr>\n",
              "      <th>Date</th>\n",
              "      <th></th>\n",
              "      <th></th>\n",
              "    </tr>\n",
              "  </thead>\n",
              "  <tbody>\n",
              "    <tr>\n",
              "      <th>2016-05-24</th>\n",
              "      <td>217.91</td>\n",
              "      <td>218.045358</td>\n",
              "    </tr>\n",
              "    <tr>\n",
              "      <th>2016-05-25</th>\n",
              "      <td>219.58</td>\n",
              "      <td>218.485917</td>\n",
              "    </tr>\n",
              "    <tr>\n",
              "      <th>2016-05-26</th>\n",
              "      <td>225.12</td>\n",
              "      <td>221.104167</td>\n",
              "    </tr>\n",
              "    <tr>\n",
              "      <th>2016-05-27</th>\n",
              "      <td>223.04</td>\n",
              "      <td>221.575667</td>\n",
              "    </tr>\n",
              "    <tr>\n",
              "      <th>2016-05-31</th>\n",
              "      <td>223.23</td>\n",
              "      <td>222.640500</td>\n",
              "    </tr>\n",
              "  </tbody>\n",
              "</table>\n",
              "</div>\n",
              "      <button class=\"colab-df-convert\" onclick=\"convertToInteractive('df-bdde62c6-6634-4e2a-94cd-c6b4936a695d')\"\n",
              "              title=\"Convert this dataframe to an interactive table.\"\n",
              "              style=\"display:none;\">\n",
              "        \n",
              "  <svg xmlns=\"http://www.w3.org/2000/svg\" height=\"24px\"viewBox=\"0 0 24 24\"\n",
              "       width=\"24px\">\n",
              "    <path d=\"M0 0h24v24H0V0z\" fill=\"none\"/>\n",
              "    <path d=\"M18.56 5.44l.94 2.06.94-2.06 2.06-.94-2.06-.94-.94-2.06-.94 2.06-2.06.94zm-11 1L8.5 8.5l.94-2.06 2.06-.94-2.06-.94L8.5 2.5l-.94 2.06-2.06.94zm10 10l.94 2.06.94-2.06 2.06-.94-2.06-.94-.94-2.06-.94 2.06-2.06.94z\"/><path d=\"M17.41 7.96l-1.37-1.37c-.4-.4-.92-.59-1.43-.59-.52 0-1.04.2-1.43.59L10.3 9.45l-7.72 7.72c-.78.78-.78 2.05 0 2.83L4 21.41c.39.39.9.59 1.41.59.51 0 1.02-.2 1.41-.59l7.78-7.78 2.81-2.81c.8-.78.8-2.07 0-2.86zM5.41 20L4 18.59l7.72-7.72 1.47 1.35L5.41 20z\"/>\n",
              "  </svg>\n",
              "      </button>\n",
              "      \n",
              "  <style>\n",
              "    .colab-df-container {\n",
              "      display:flex;\n",
              "      flex-wrap:wrap;\n",
              "      gap: 12px;\n",
              "    }\n",
              "\n",
              "    .colab-df-convert {\n",
              "      background-color: #E8F0FE;\n",
              "      border: none;\n",
              "      border-radius: 50%;\n",
              "      cursor: pointer;\n",
              "      display: none;\n",
              "      fill: #1967D2;\n",
              "      height: 32px;\n",
              "      padding: 0 0 0 0;\n",
              "      width: 32px;\n",
              "    }\n",
              "\n",
              "    .colab-df-convert:hover {\n",
              "      background-color: #E2EBFA;\n",
              "      box-shadow: 0px 1px 2px rgba(60, 64, 67, 0.3), 0px 1px 3px 1px rgba(60, 64, 67, 0.15);\n",
              "      fill: #174EA6;\n",
              "    }\n",
              "\n",
              "    [theme=dark] .colab-df-convert {\n",
              "      background-color: #3B4455;\n",
              "      fill: #D2E3FC;\n",
              "    }\n",
              "\n",
              "    [theme=dark] .colab-df-convert:hover {\n",
              "      background-color: #434B5C;\n",
              "      box-shadow: 0px 1px 3px 1px rgba(0, 0, 0, 0.15);\n",
              "      filter: drop-shadow(0px 1px 2px rgba(0, 0, 0, 0.3));\n",
              "      fill: #FFFFFF;\n",
              "    }\n",
              "  </style>\n",
              "\n",
              "      <script>\n",
              "        const buttonEl =\n",
              "          document.querySelector('#df-bdde62c6-6634-4e2a-94cd-c6b4936a695d button.colab-df-convert');\n",
              "        buttonEl.style.display =\n",
              "          google.colab.kernel.accessAllowed ? 'block' : 'none';\n",
              "\n",
              "        async function convertToInteractive(key) {\n",
              "          const element = document.querySelector('#df-bdde62c6-6634-4e2a-94cd-c6b4936a695d');\n",
              "          const dataTable =\n",
              "            await google.colab.kernel.invokeFunction('convertToInteractive',\n",
              "                                                     [key], {});\n",
              "          if (!dataTable) return;\n",
              "\n",
              "          const docLinkHtml = 'Like what you see? Visit the ' +\n",
              "            '<a target=\"_blank\" href=https://colab.research.google.com/notebooks/data_table.ipynb>data table notebook</a>'\n",
              "            + ' to learn more about interactive tables.';\n",
              "          element.innerHTML = '';\n",
              "          dataTable['output_type'] = 'display_data';\n",
              "          await google.colab.output.renderOutput(dataTable, element);\n",
              "          const docLink = document.createElement('div');\n",
              "          docLink.innerHTML = docLinkHtml;\n",
              "          element.appendChild(docLink);\n",
              "        }\n",
              "      </script>\n",
              "    </div>\n",
              "  </div>\n",
              "  "
            ],
            "text/plain": [
              "            Actual   Predicted\n",
              "Date                          \n",
              "2016-05-24  217.91  218.045358\n",
              "2016-05-25  219.58  218.485917\n",
              "2016-05-26  225.12  221.104167\n",
              "2016-05-27  223.04  221.575667\n",
              "2016-05-31  223.23  222.640500"
            ]
          },
          "metadata": {},
          "execution_count": 18
        }
      ]
    },
    {
      "cell_type": "code",
      "metadata": {
        "colab": {
          "base_uri": "https://localhost:8080/",
          "height": 490
        },
        "id": "HtE8FBOQx0aH",
        "outputId": "5cbe9679-b02c-4333-db6d-6195025b02a0"
      },
      "source": [
        "plt.figure(figsize=(8,8))\n",
        "pred_RF_df['Actual'].plot()\n",
        "pred_RF_df['Predicted'].plot()\n",
        "plt.legend(['Actual Value', 'Predictions'])"
      ],
      "execution_count": null,
      "outputs": [
        {
          "output_type": "execute_result",
          "data": {
            "text/plain": [
              "<matplotlib.legend.Legend at 0x7f52ce176d10>"
            ]
          },
          "metadata": {},
          "execution_count": 19
        },
        {
          "output_type": "display_data",
          "data": {
            "image/png": "[encoded data removed]",
            "text/plain": [
              "<Figure size 576x576 with 1 Axes>"
            ]
          },
          "metadata": {
            "needs_background": "light"
          }
        }
      ]
    },
    {
      "cell_type": "code",
      "metadata": {
        "colab": {
          "base_uri": "https://localhost:8080/"
        },
        "id": "ty81AxIGV3N7",
        "outputId": "cda5093c-fc57-48de-f4b6-4eefc25634a8"
      },
      "source": [
        "show_scores(rs_model)"
      ],
      "execution_count": null,
      "outputs": [
        {
          "output_type": "execute_result",
          "data": {
            "text/plain": [
              "{'Test MAE': 24.436174238351278,\n",
              " 'Test RMSLE': 0.12423978682596828,\n",
              " 'Test R^2': 0.5994952587843064,\n",
              " 'Training MAE': 1.0665463220942357,\n",
              " 'Training RMSLE': 0.015540818052597022,\n",
              " 'Training R^2': 0.999676470656345}"
            ]
          },
          "metadata": {},
          "execution_count": 20
        }
      ]
    },
    {
      "cell_type": "code",
      "metadata": {
        "colab": {
          "base_uri": "https://localhost:8080/"
        },
        "id": "Zqvz2ufY3fGh",
        "outputId": "ed4221c0-a9c9-4dc0-c417-7da9f4db009b"
      },
      "source": [
        "# dùng cột close để train cho LSTM\n",
        "data_close=y.copy()\n",
        "data_close.head()"
      ],
      "execution_count": null,
      "outputs": [
        {
          "output_type": "execute_result",
          "data": {
            "text/plain": [
              "Date\n",
              "2010-06-28    17.00\n",
              "2010-06-29    23.89\n",
              "2010-06-30    23.83\n",
              "2010-07-01    21.96\n",
              "2010-07-02    19.20\n",
              "Name: Close, dtype: float64"
            ]
          },
          "metadata": {},
          "execution_count": 21
        }
      ]
    },
    {
      "cell_type": "code",
      "metadata": {
        "colab": {
          "base_uri": "https://localhost:8080/",
          "height": 267
        },
        "id": "63H-zIPt3lb3",
        "outputId": "9188d9fc-7f08-416b-e307-af5a9e8f50a0"
      },
      "source": [
        "plt.plot(data_close)\n",
        "plt.show()"
      ],
      "execution_count": null,
      "outputs": [
        {
          "output_type": "display_data",
          "data": {
            "image/png": "[encoded data removed]",
            "text/plain": [
              "<Figure size 432x288 with 1 Axes>"
            ]
          },
          "metadata": {
            "needs_background": "light"
          }
        }
      ]
    },
    {
      "cell_type": "code",
      "metadata": {
        "id": "EIOFFkuJ3v96"
      },
      "source": [
        "time_step = 30 # window = 30, dùng dữ liệu của 30 ngày trước để dự đoán giá trị hiện tại\n",
        "X_cl, y_cl = [], []\n",
        "\n",
        "for i in range(len(data_close)-time_step):\n",
        "    X_cl.append(data_close[i:(i+time_step)])\n",
        "    y_cl.append(data_close[(i+time_step)])\n",
        "\n",
        "X_cl = np.array(X_cl)\n",
        "y_cl = np.array(y_cl)"
      ],
      "execution_count": null,
      "outputs": []
    },
    {
      "cell_type": "code",
      "metadata": {
        "colab": {
          "base_uri": "https://localhost:8080/",
          "height": 270
        },
        "id": "yPiDAzL34EWC",
        "outputId": "d203feaa-3f4a-459c-dd6d-a37ce66af849"
      },
      "source": [
        "X_cl = scaler.fit_transform(X_cl)\n",
        "pd.DataFrame(X_cl).head()"
      ],
      "execution_count": null,
      "outputs": [
        {
          "output_type": "execute_result",
          "data": {
            "text/html": [
              "\n",
              "  <div id=\"df-090d478e-a0b8-401d-9819-70994f406e03\">\n",
              "    <div class=\"colab-df-container\">\n",
              "      <div>\n",
              "<style scoped>\n",
              "    .dataframe tbody tr th:only-of-type {\n",
              "        vertical-align: middle;\n",
              "    }\n",
              "\n",
              "    .dataframe tbody tr th {\n",
              "        vertical-align: top;\n",
              "    }\n",
              "\n",
              "    .dataframe thead th {\n",
              "        text-align: right;\n",
              "    }\n",
              "</style>\n",
              "<table border=\"1\" class=\"dataframe\">\n",
              "  <thead>\n",
              "    <tr style=\"text-align: right;\">\n",
              "      <th></th>\n",
              "      <th>0</th>\n",
              "      <th>1</th>\n",
              "      <th>2</th>\n",
              "      <th>3</th>\n",
              "      <th>4</th>\n",
              "      <th>5</th>\n",
              "      <th>6</th>\n",
              "      <th>7</th>\n",
              "      <th>8</th>\n",
              "      <th>9</th>\n",
              "      <th>10</th>\n",
              "      <th>11</th>\n",
              "      <th>12</th>\n",
              "      <th>13</th>\n",
              "      <th>14</th>\n",
              "      <th>15</th>\n",
              "      <th>16</th>\n",
              "      <th>17</th>\n",
              "      <th>18</th>\n",
              "      <th>19</th>\n",
              "      <th>20</th>\n",
              "      <th>21</th>\n",
              "      <th>22</th>\n",
              "      <th>23</th>\n",
              "      <th>24</th>\n",
              "      <th>25</th>\n",
              "      <th>26</th>\n",
              "      <th>27</th>\n",
              "      <th>28</th>\n",
              "      <th>29</th>\n",
              "    </tr>\n",
              "  </thead>\n",
              "  <tbody>\n",
              "    <tr>\n",
              "      <th>0</th>\n",
              "      <td>0.003250</td>\n",
              "      <td>0.021912</td>\n",
              "      <td>0.021750</td>\n",
              "      <td>0.016685</td>\n",
              "      <td>0.009209</td>\n",
              "      <td>0.000840</td>\n",
              "      <td>0.000000</td>\n",
              "      <td>0.001114</td>\n",
              "      <td>0.000951</td>\n",
              "      <td>0.000000</td>\n",
              "      <td>0.001470</td>\n",
              "      <td>0.006097</td>\n",
              "      <td>0.006233</td>\n",
              "      <td>0.008274</td>\n",
              "      <td>0.011731</td>\n",
              "      <td>0.007349</td>\n",
              "      <td>0.007131</td>\n",
              "      <td>0.009254</td>\n",
              "      <td>0.010044</td>\n",
              "      <td>0.009118</td>\n",
              "      <td>0.008029</td>\n",
              "      <td>0.008492</td>\n",
              "      <td>0.007485</td>\n",
              "      <td>0.006369</td>\n",
              "      <td>0.009036</td>\n",
              "      <td>0.011840</td>\n",
              "      <td>0.009962</td>\n",
              "      <td>0.007757</td>\n",
              "      <td>0.005416</td>\n",
              "      <td>0.005444</td>\n",
              "    </tr>\n",
              "    <tr>\n",
              "      <th>1</th>\n",
              "      <td>0.021912</td>\n",
              "      <td>0.021750</td>\n",
              "      <td>0.016685</td>\n",
              "      <td>0.009209</td>\n",
              "      <td>0.000840</td>\n",
              "      <td>0.000000</td>\n",
              "      <td>0.004496</td>\n",
              "      <td>0.000951</td>\n",
              "      <td>0.000000</td>\n",
              "      <td>0.002962</td>\n",
              "      <td>0.006097</td>\n",
              "      <td>0.006233</td>\n",
              "      <td>0.008274</td>\n",
              "      <td>0.011731</td>\n",
              "      <td>0.007349</td>\n",
              "      <td>0.007131</td>\n",
              "      <td>0.009254</td>\n",
              "      <td>0.010044</td>\n",
              "      <td>0.009118</td>\n",
              "      <td>0.008029</td>\n",
              "      <td>0.008492</td>\n",
              "      <td>0.007485</td>\n",
              "      <td>0.006369</td>\n",
              "      <td>0.009036</td>\n",
              "      <td>0.011840</td>\n",
              "      <td>0.009962</td>\n",
              "      <td>0.007757</td>\n",
              "      <td>0.005416</td>\n",
              "      <td>0.005444</td>\n",
              "      <td>0.003892</td>\n",
              "    </tr>\n",
              "    <tr>\n",
              "      <th>2</th>\n",
              "      <td>0.021750</td>\n",
              "      <td>0.016685</td>\n",
              "      <td>0.009209</td>\n",
              "      <td>0.000840</td>\n",
              "      <td>0.000000</td>\n",
              "      <td>0.004496</td>\n",
              "      <td>0.004334</td>\n",
              "      <td>0.000000</td>\n",
              "      <td>0.002962</td>\n",
              "      <td>0.007583</td>\n",
              "      <td>0.006233</td>\n",
              "      <td>0.008274</td>\n",
              "      <td>0.011731</td>\n",
              "      <td>0.007349</td>\n",
              "      <td>0.007131</td>\n",
              "      <td>0.009254</td>\n",
              "      <td>0.010044</td>\n",
              "      <td>0.009118</td>\n",
              "      <td>0.008029</td>\n",
              "      <td>0.008492</td>\n",
              "      <td>0.007485</td>\n",
              "      <td>0.006369</td>\n",
              "      <td>0.009036</td>\n",
              "      <td>0.011840</td>\n",
              "      <td>0.009962</td>\n",
              "      <td>0.007757</td>\n",
              "      <td>0.005416</td>\n",
              "      <td>0.005444</td>\n",
              "      <td>0.003892</td>\n",
              "      <td>0.000817</td>\n",
              "    </tr>\n",
              "    <tr>\n",
              "      <th>3</th>\n",
              "      <td>0.016685</td>\n",
              "      <td>0.009209</td>\n",
              "      <td>0.000840</td>\n",
              "      <td>0.000000</td>\n",
              "      <td>0.004496</td>\n",
              "      <td>0.004334</td>\n",
              "      <td>0.003386</td>\n",
              "      <td>0.002962</td>\n",
              "      <td>0.007583</td>\n",
              "      <td>0.007718</td>\n",
              "      <td>0.008274</td>\n",
              "      <td>0.011731</td>\n",
              "      <td>0.007349</td>\n",
              "      <td>0.007131</td>\n",
              "      <td>0.009254</td>\n",
              "      <td>0.010044</td>\n",
              "      <td>0.009118</td>\n",
              "      <td>0.008029</td>\n",
              "      <td>0.008492</td>\n",
              "      <td>0.007485</td>\n",
              "      <td>0.006369</td>\n",
              "      <td>0.009036</td>\n",
              "      <td>0.011840</td>\n",
              "      <td>0.009962</td>\n",
              "      <td>0.007757</td>\n",
              "      <td>0.005416</td>\n",
              "      <td>0.005444</td>\n",
              "      <td>0.003892</td>\n",
              "      <td>0.000817</td>\n",
              "      <td>0.000000</td>\n",
              "    </tr>\n",
              "    <tr>\n",
              "      <th>4</th>\n",
              "      <td>0.009209</td>\n",
              "      <td>0.000840</td>\n",
              "      <td>0.000000</td>\n",
              "      <td>0.004496</td>\n",
              "      <td>0.004334</td>\n",
              "      <td>0.003386</td>\n",
              "      <td>0.006338</td>\n",
              "      <td>0.007583</td>\n",
              "      <td>0.007718</td>\n",
              "      <td>0.009757</td>\n",
              "      <td>0.011731</td>\n",
              "      <td>0.007349</td>\n",
              "      <td>0.007131</td>\n",
              "      <td>0.009254</td>\n",
              "      <td>0.010044</td>\n",
              "      <td>0.009118</td>\n",
              "      <td>0.008029</td>\n",
              "      <td>0.008492</td>\n",
              "      <td>0.007485</td>\n",
              "      <td>0.006369</td>\n",
              "      <td>0.009036</td>\n",
              "      <td>0.011840</td>\n",
              "      <td>0.009962</td>\n",
              "      <td>0.007757</td>\n",
              "      <td>0.005416</td>\n",
              "      <td>0.005444</td>\n",
              "      <td>0.003892</td>\n",
              "      <td>0.000817</td>\n",
              "      <td>0.000000</td>\n",
              "      <td>0.001960</td>\n",
              "    </tr>\n",
              "  </tbody>\n",
              "</table>\n",
              "</div>\n",
              "      <button class=\"colab-df-convert\" onclick=\"convertToInteractive('df-090d478e-a0b8-401d-9819-70994f406e03')\"\n",
              "              title=\"Convert this dataframe to an interactive table.\"\n",
              "              style=\"display:none;\">\n",
              "        \n",
              "  <svg xmlns=\"http://www.w3.org/2000/svg\" height=\"24px\"viewBox=\"0 0 24 24\"\n",
              "       width=\"24px\">\n",
              "    <path d=\"M0 0h24v24H0V0z\" fill=\"none\"/>\n",
              "    <path d=\"M18.56 5.44l.94 2.06.94-2.06 2.06-.94-2.06-.94-.94-2.06-.94 2.06-2.06.94zm-11 1L8.5 8.5l.94-2.06 2.06-.94-2.06-.94L8.5 2.5l-.94 2.06-2.06.94zm10 10l.94 2.06.94-2.06 2.06-.94-2.06-.94-.94-2.06-.94 2.06-2.06.94z\"/><path d=\"M17.41 7.96l-1.37-1.37c-.4-.4-.92-.59-1.43-.59-.52 0-1.04.2-1.43.59L10.3 9.45l-7.72 7.72c-.78.78-.78 2.05 0 2.83L4 21.41c.39.39.9.59 1.41.59.51 0 1.02-.2 1.41-.59l7.78-7.78 2.81-2.81c.8-.78.8-2.07 0-2.86zM5.41 20L4 18.59l7.72-7.72 1.47 1.35L5.41 20z\"/>\n",
              "  </svg>\n",
              "      </button>\n",
              "      \n",
              "  <style>\n",
              "    .colab-df-container {\n",
              "      display:flex;\n",
              "      flex-wrap:wrap;\n",
              "      gap: 12px;\n",
              "    }\n",
              "\n",
              "    .colab-df-convert {\n",
              "      background-color: #E8F0FE;\n",
              "      border: none;\n",
              "      border-radius: 50%;\n",
              "      cursor: pointer;\n",
              "      display: none;\n",
              "      fill: #1967D2;\n",
              "      height: 32px;\n",
              "      padding: 0 0 0 0;\n",
              "      width: 32px;\n",
              "    }\n",
              "\n",
              "    .colab-df-convert:hover {\n",
              "      background-color: #E2EBFA;\n",
              "      box-shadow: 0px 1px 2px rgba(60, 64, 67, 0.3), 0px 1px 3px 1px rgba(60, 64, 67, 0.15);\n",
              "      fill: #174EA6;\n",
              "    }\n",
              "\n",
              "    [theme=dark] .colab-df-convert {\n",
              "      background-color: #3B4455;\n",
              "      fill: #D2E3FC;\n",
              "    }\n",
              "\n",
              "    [theme=dark] .colab-df-convert:hover {\n",
              "      background-color: #434B5C;\n",
              "      box-shadow: 0px 1px 3px 1px rgba(0, 0, 0, 0.15);\n",
              "      filter: drop-shadow(0px 1px 2px rgba(0, 0, 0, 0.3));\n",
              "      fill: #FFFFFF;\n",
              "    }\n",
              "  </style>\n",
              "\n",
              "      <script>\n",
              "        const buttonEl =\n",
              "          document.querySelector('#df-090d478e-a0b8-401d-9819-70994f406e03 button.colab-df-convert');\n",
              "        buttonEl.style.display =\n",
              "          google.colab.kernel.accessAllowed ? 'block' : 'none';\n",
              "\n",
              "        async function convertToInteractive(key) {\n",
              "          const element = document.querySelector('#df-090d478e-a0b8-401d-9819-70994f406e03');\n",
              "          const dataTable =\n",
              "            await google.colab.kernel.invokeFunction('convertToInteractive',\n",
              "                                                     [key], {});\n",
              "          if (!dataTable) return;\n",
              "\n",
              "          const docLinkHtml = 'Like what you see? Visit the ' +\n",
              "            '<a target=\"_blank\" href=https://colab.research.google.com/notebooks/data_table.ipynb>data table notebook</a>'\n",
              "            + ' to learn more about interactive tables.';\n",
              "          element.innerHTML = '';\n",
              "          dataTable['output_type'] = 'display_data';\n",
              "          await google.colab.output.renderOutput(dataTable, element);\n",
              "          const docLink = document.createElement('div');\n",
              "          docLink.innerHTML = docLinkHtml;\n",
              "          element.appendChild(docLink);\n",
              "        }\n",
              "      </script>\n",
              "    </div>\n",
              "  </div>\n",
              "  "
            ],
            "text/plain": [
              "         0         1         2   ...        27        28        29\n",
              "0  0.003250  0.021912  0.021750  ...  0.007757  0.005416  0.005444\n",
              "1  0.021912  0.021750  0.016685  ...  0.005416  0.005444  0.003892\n",
              "2  0.021750  0.016685  0.009209  ...  0.005444  0.003892  0.000817\n",
              "3  0.016685  0.009209  0.000840  ...  0.003892  0.000817  0.000000\n",
              "4  0.009209  0.000840  0.000000  ...  0.000817  0.000000  0.001960\n",
              "\n",
              "[5 rows x 30 columns]"
            ]
          },
          "metadata": {},
          "execution_count": 24
        }
      ]
    },
    {
      "cell_type": "code",
      "metadata": {
        "id": "lBAutVXa4O_o"
      },
      "source": [
        "X_cl_train, X_cl_test, y_cl_train, y_cl_test = train_test_split(X_cl, y_cl, test_size = 0.2, shuffle=False)\n",
        "Acc = []"
      ],
      "execution_count": null,
      "outputs": []
    },
    {
      "cell_type": "code",
      "metadata": {
        "id": "ZbH4bqH94TAD"
      },
      "source": [
        "X_train_ = X_cl_train.reshape(X_cl_train.shape[0],X_cl_train.shape[1],1)\n",
        "\n",
        "X_test_ = X_cl_test.reshape(X_cl_test.shape[0],X_cl_test.shape[1],1)"
      ],
      "execution_count": null,
      "outputs": []
    },
    {
      "cell_type": "code",
      "metadata": {
        "colab": {
          "base_uri": "https://localhost:8080/"
        },
        "id": "QyHd8l_VqrE1",
        "outputId": "c2d8e9cd-75ac-4eab-b7a0-0bac3036d785"
      },
      "source": [
        "X_train_.shape"
      ],
      "execution_count": null,
      "outputs": [
        {
          "output_type": "execute_result",
          "data": {
            "text/plain": [
              "(1462, 30, 1)"
            ]
          },
          "metadata": {},
          "execution_count": 27
        }
      ]
    },
    {
      "cell_type": "code",
      "metadata": {
        "id": "yDufunUE870m"
      },
      "source": [
        "def Reg():\n",
        "    model = Sequential()\n",
        "    model.add(LSTM(70, return_sequences=True,activation='relu', input_shape=(30,1)))\n",
        "    model.add(LSTM(70, return_sequences=False,activation='relu'))\n",
        "    model.add(Dense(1))\n",
        "    model.compile(loss='mean_squared_error', optimizer='adam')\n",
        "    \n",
        "    return model"
      ],
      "execution_count": null,
      "outputs": []
    },
    {
      "cell_type": "code",
      "metadata": {
        "colab": {
          "base_uri": "https://localhost:8080/"
        },
        "id": "GbyYmb6U_D4F",
        "outputId": "b328aa44-14e2-4c53-f238-303a456f84c6"
      },
      "source": [
        "model_1 = Reg()\n",
        "model_1.fit(X_train_, y_cl_train, epochs=100, validation_split=0.2)"
      ],
      "execution_count": null,
      "outputs": [
        {
          "output_type": "stream",
          "name": "stdout",
          "text": [
            "WARNING:tensorflow:Layer lstm will not use cuDNN kernels since it doesn't meet the criteria. It will use a generic GPU kernel as fallback when running on GPU.\n",
            "WARNING:tensorflow:Layer lstm_1 will not use cuDNN kernels since it doesn't meet the criteria. It will use a generic GPU kernel as fallback when running on GPU.\n",
            "Epoch 1/100\n",
            "37/37 [==============================] - 10s 166ms/step - loss: 15948.2588 - val_loss: 51782.7422\n",
            "Epoch 2/100\n",
            "37/37 [==============================] - 6s 157ms/step - loss: 15214.1963 - val_loss: 22107.3711\n",
            "Epoch 3/100\n",
            "37/37 [==============================] - 6s 157ms/step - loss: 4658.9878 - val_loss: 1515.2769\n",
            "Epoch 4/100\n",
            "37/37 [==============================] - 6s 154ms/step - loss: 501.7724 - val_loss: 923.4481\n",
            "Epoch 5/100\n",
            "37/37 [==============================] - 6s 158ms/step - loss: 306.9231 - val_loss: 727.8214\n",
            "Epoch 6/100\n",
            "37/37 [==============================] - 6s 155ms/step - loss: 286.8908 - val_loss: 958.1299\n",
            "Epoch 7/100\n",
            "37/37 [==============================] - 6s 155ms/step - loss: 265.5087 - val_loss: 728.6225\n",
            "Epoch 8/100\n",
            "37/37 [==============================] - 6s 153ms/step - loss: 270.0977 - val_loss: 730.6518\n",
            "Epoch 9/100\n",
            "37/37 [==============================] - 6s 156ms/step - loss: 274.0042 - val_loss: 803.9799\n",
            "Epoch 10/100\n",
            "37/37 [==============================] - 6s 157ms/step - loss: 249.3249 - val_loss: 756.5001\n",
            "Epoch 11/100\n",
            "37/37 [==============================] - 6s 158ms/step - loss: 245.8549 - val_loss: 672.3609\n",
            "Epoch 12/100\n",
            "37/37 [==============================] - 6s 155ms/step - loss: 283.7451 - val_loss: 903.5040\n",
            "Epoch 13/100\n",
            "37/37 [==============================] - 6s 159ms/step - loss: 302.7626 - val_loss: 669.9770\n",
            "Epoch 14/100\n",
            "37/37 [==============================] - 6s 158ms/step - loss: 236.4433 - val_loss: 991.7950\n",
            "Epoch 15/100\n",
            "37/37 [==============================] - 6s 158ms/step - loss: 251.1258 - val_loss: 726.7036\n",
            "Epoch 16/100\n",
            "37/37 [==============================] - 6s 153ms/step - loss: 262.1587 - val_loss: 616.9745\n",
            "Epoch 17/100\n",
            "37/37 [==============================] - 6s 156ms/step - loss: 245.2776 - val_loss: 725.7141\n",
            "Epoch 18/100\n",
            "37/37 [==============================] - 6s 155ms/step - loss: 223.7797 - val_loss: 568.1740\n",
            "Epoch 19/100\n",
            "37/37 [==============================] - 6s 154ms/step - loss: 213.1381 - val_loss: 591.1837\n",
            "Epoch 20/100\n",
            "37/37 [==============================] - 6s 156ms/step - loss: 209.8400 - val_loss: 794.2314\n",
            "Epoch 21/100\n",
            "37/37 [==============================] - 6s 154ms/step - loss: 265.9947 - val_loss: 883.6754\n",
            "Epoch 22/100\n",
            "37/37 [==============================] - 6s 156ms/step - loss: 258.7159 - val_loss: 620.0847\n",
            "Epoch 23/100\n",
            "37/37 [==============================] - 6s 154ms/step - loss: 227.3039 - val_loss: 611.7532\n",
            "Epoch 24/100\n",
            "37/37 [==============================] - 6s 157ms/step - loss: 235.0730 - val_loss: 502.9034\n",
            "Epoch 25/100\n",
            "37/37 [==============================] - 6s 155ms/step - loss: 201.0519 - val_loss: 472.9839\n",
            "Epoch 26/100\n",
            "37/37 [==============================] - 6s 151ms/step - loss: 170.1828 - val_loss: 535.5091\n",
            "Epoch 27/100\n",
            "37/37 [==============================] - 6s 153ms/step - loss: 196.9845 - val_loss: 504.4934\n",
            "Epoch 28/100\n",
            "37/37 [==============================] - 6s 150ms/step - loss: 200.5499 - val_loss: 648.2478\n",
            "Epoch 29/100\n",
            "37/37 [==============================] - 6s 154ms/step - loss: 238.9945 - val_loss: 688.8953\n",
            "Epoch 30/100\n",
            "37/37 [==============================] - 6s 153ms/step - loss: 259.5035 - val_loss: 639.8395\n",
            "Epoch 31/100\n",
            "37/37 [==============================] - 6s 154ms/step - loss: 172.2200 - val_loss: 386.1707\n",
            "Epoch 32/100\n",
            "37/37 [==============================] - 6s 156ms/step - loss: 178.0654 - val_loss: 417.9793\n",
            "Epoch 33/100\n",
            "37/37 [==============================] - 6s 149ms/step - loss: 159.7355 - val_loss: 900.8658\n",
            "Epoch 34/100\n",
            "37/37 [==============================] - 6s 152ms/step - loss: 193.4546 - val_loss: 536.7394\n",
            "Epoch 35/100\n",
            "37/37 [==============================] - 6s 155ms/step - loss: 149.5224 - val_loss: 323.4628\n",
            "Epoch 36/100\n",
            "37/37 [==============================] - 6s 157ms/step - loss: 187.3628 - val_loss: 395.8901\n",
            "Epoch 37/100\n",
            "37/37 [==============================] - 6s 157ms/step - loss: 251.2845 - val_loss: 665.0938\n",
            "Epoch 38/100\n",
            "37/37 [==============================] - 6s 157ms/step - loss: 164.3849 - val_loss: 364.3748\n",
            "Epoch 39/100\n",
            "37/37 [==============================] - 6s 153ms/step - loss: 161.7403 - val_loss: 790.2950\n",
            "Epoch 40/100\n",
            "37/37 [==============================] - 6s 155ms/step - loss: 171.9224 - val_loss: 730.0369\n",
            "Epoch 41/100\n",
            "37/37 [==============================] - 6s 158ms/step - loss: 154.3597 - val_loss: 356.2748\n",
            "Epoch 42/100\n",
            "37/37 [==============================] - 6s 154ms/step - loss: 130.2917 - val_loss: 627.7796\n",
            "Epoch 43/100\n",
            "37/37 [==============================] - 6s 154ms/step - loss: 153.3872 - val_loss: 282.9509\n",
            "Epoch 44/100\n",
            "37/37 [==============================] - 6s 154ms/step - loss: 133.8893 - val_loss: 266.9646\n",
            "Epoch 45/100\n",
            "37/37 [==============================] - 6s 152ms/step - loss: 127.7789 - val_loss: 527.1622\n",
            "Epoch 46/100\n",
            "37/37 [==============================] - 6s 157ms/step - loss: 142.2434 - val_loss: 369.7247\n",
            "Epoch 47/100\n",
            "37/37 [==============================] - 6s 155ms/step - loss: 135.7068 - val_loss: 297.9800\n",
            "Epoch 48/100\n",
            "37/37 [==============================] - 6s 154ms/step - loss: 110.7796 - val_loss: 296.3267\n",
            "Epoch 49/100\n",
            "37/37 [==============================] - 6s 153ms/step - loss: 123.7005 - val_loss: 726.4540\n",
            "Epoch 50/100\n",
            "37/37 [==============================] - 6s 155ms/step - loss: 166.8987 - val_loss: 797.0955\n",
            "Epoch 51/100\n",
            "37/37 [==============================] - 6s 151ms/step - loss: 148.3104 - val_loss: 304.0640\n",
            "Epoch 52/100\n",
            "37/37 [==============================] - 6s 154ms/step - loss: 130.7593 - val_loss: 299.4965\n",
            "Epoch 53/100\n",
            "37/37 [==============================] - 6s 149ms/step - loss: 125.1038 - val_loss: 290.4304\n",
            "Epoch 54/100\n",
            "37/37 [==============================] - 6s 154ms/step - loss: 138.2733 - val_loss: 306.7477\n",
            "Epoch 55/100\n",
            "37/37 [==============================] - 5s 149ms/step - loss: 136.7060 - val_loss: 295.3655\n",
            "Epoch 56/100\n",
            "37/37 [==============================] - 6s 154ms/step - loss: 113.8942 - val_loss: 263.4564\n",
            "Epoch 57/100\n",
            "37/37 [==============================] - 6s 150ms/step - loss: 135.5061 - val_loss: 270.0490\n",
            "Epoch 58/100\n",
            "37/37 [==============================] - 6s 154ms/step - loss: 138.2199 - val_loss: 343.2567\n",
            "Epoch 59/100\n",
            "37/37 [==============================] - 6s 154ms/step - loss: 111.6647 - val_loss: 247.5258\n",
            "Epoch 60/100\n",
            "37/37 [==============================] - 6s 151ms/step - loss: 109.6933 - val_loss: 365.6654\n",
            "Epoch 61/100\n",
            "37/37 [==============================] - 6s 151ms/step - loss: 117.2330 - val_loss: 403.7519\n",
            "Epoch 62/100\n",
            "37/37 [==============================] - 6s 152ms/step - loss: 116.0802 - val_loss: 303.8668\n",
            "Epoch 63/100\n",
            "37/37 [==============================] - 6s 155ms/step - loss: 126.2883 - val_loss: 285.2423\n",
            "Epoch 64/100\n",
            "37/37 [==============================] - 6s 150ms/step - loss: 119.1328 - val_loss: 273.3243\n",
            "Epoch 65/100\n",
            "37/37 [==============================] - 6s 154ms/step - loss: 104.9009 - val_loss: 319.8690\n",
            "Epoch 66/100\n",
            "37/37 [==============================] - 6s 155ms/step - loss: 138.1002 - val_loss: 308.6703\n",
            "Epoch 67/100\n",
            "37/37 [==============================] - 6s 153ms/step - loss: 106.8295 - val_loss: 235.8164\n",
            "Epoch 68/100\n",
            "37/37 [==============================] - 6s 153ms/step - loss: 101.2218 - val_loss: 255.3512\n",
            "Epoch 69/100\n",
            "37/37 [==============================] - 6s 154ms/step - loss: 117.5567 - val_loss: 246.1958\n",
            "Epoch 70/100\n",
            "37/37 [==============================] - 6s 149ms/step - loss: 137.4307 - val_loss: 267.5329\n",
            "Epoch 71/100\n",
            "37/37 [==============================] - 6s 152ms/step - loss: 122.4937 - val_loss: 261.3358\n",
            "Epoch 72/100\n",
            "37/37 [==============================] - 6s 154ms/step - loss: 115.5550 - val_loss: 238.8537\n",
            "Epoch 73/100\n",
            "37/37 [==============================] - 6s 152ms/step - loss: 122.0215 - val_loss: 229.4293\n",
            "Epoch 74/100\n",
            "37/37 [==============================] - 6s 151ms/step - loss: 126.6638 - val_loss: 284.6264\n",
            "Epoch 75/100\n",
            "37/37 [==============================] - 6s 154ms/step - loss: 108.0094 - val_loss: 238.1261\n",
            "Epoch 76/100\n",
            "37/37 [==============================] - 6s 154ms/step - loss: 130.2579 - val_loss: 339.0868\n",
            "Epoch 77/100\n",
            "37/37 [==============================] - 6s 155ms/step - loss: 119.2483 - val_loss: 261.4723\n",
            "Epoch 78/100\n",
            "37/37 [==============================] - 6s 150ms/step - loss: 102.5590 - val_loss: 309.4822\n",
            "Epoch 79/100\n",
            "37/37 [==============================] - 6s 152ms/step - loss: 111.1881 - val_loss: 471.7473\n",
            "Epoch 80/100\n",
            "37/37 [==============================] - 6s 154ms/step - loss: 123.6312 - val_loss: 279.2274\n",
            "Epoch 81/100\n",
            "37/37 [==============================] - 6s 153ms/step - loss: 127.5830 - val_loss: 1064.3973\n",
            "Epoch 82/100\n",
            "37/37 [==============================] - 6s 151ms/step - loss: 179.5103 - val_loss: 290.6633\n",
            "Epoch 83/100\n",
            "37/37 [==============================] - 6s 152ms/step - loss: 112.8757 - val_loss: 249.3474\n",
            "Epoch 84/100\n",
            "37/37 [==============================] - 6s 151ms/step - loss: 112.3713 - val_loss: 236.1179\n",
            "Epoch 85/100\n",
            "37/37 [==============================] - 6s 150ms/step - loss: 114.0972 - val_loss: 237.2697\n",
            "Epoch 86/100\n",
            "37/37 [==============================] - 6s 152ms/step - loss: 113.6035 - val_loss: 677.2016\n",
            "Epoch 87/100\n",
            "37/37 [==============================] - 5s 148ms/step - loss: 113.0088 - val_loss: 357.5355\n",
            "Epoch 88/100\n",
            "37/37 [==============================] - 6s 151ms/step - loss: 108.1036 - val_loss: 255.8210\n",
            "Epoch 89/100\n",
            "37/37 [==============================] - 6s 151ms/step - loss: 110.6884 - val_loss: 288.3125\n",
            "Epoch 90/100\n",
            "37/37 [==============================] - 6s 152ms/step - loss: 100.6291 - val_loss: 363.2926\n",
            "Epoch 91/100\n",
            "37/37 [==============================] - 6s 153ms/step - loss: 105.0630 - val_loss: 187.8452\n",
            "Epoch 92/100\n",
            "37/37 [==============================] - 6s 152ms/step - loss: 95.0512 - val_loss: 434.8985\n",
            "Epoch 93/100\n",
            "37/37 [==============================] - 6s 154ms/step - loss: 120.5569 - val_loss: 195.5566\n",
            "Epoch 94/100\n",
            "37/37 [==============================] - 6s 154ms/step - loss: 101.2575 - val_loss: 189.4517\n",
            "Epoch 95/100\n",
            "37/37 [==============================] - 6s 152ms/step - loss: 119.8782 - val_loss: 484.3894\n",
            "Epoch 96/100\n",
            "37/37 [==============================] - 6s 149ms/step - loss: 128.0631 - val_loss: 226.1311\n",
            "Epoch 97/100\n",
            "37/37 [==============================] - 6s 153ms/step - loss: 96.3198 - val_loss: 253.7397\n",
            "Epoch 98/100\n",
            "37/37 [==============================] - 6s 149ms/step - loss: 98.4193 - val_loss: 267.7513\n",
            "Epoch 99/100\n",
            "37/37 [==============================] - 5s 148ms/step - loss: 93.2981 - val_loss: 308.0493\n",
            "Epoch 100/100\n",
            "37/37 [==============================] - 6s 151ms/step - loss: 105.0678 - val_loss: 225.2170\n"
          ]
        },
        {
          "output_type": "execute_result",
          "data": {
            "text/plain": [
              "<keras.callbacks.History at 0x7f52cdeb26d0>"
            ]
          },
          "metadata": {},
          "execution_count": 29
        }
      ]
    },
    {
      "cell_type": "code",
      "metadata": {
        "id": "-WCt94Jt_NLJ"
      },
      "source": [
        "y_pred_lstm = model_1.predict(X_test_)"
      ],
      "execution_count": null,
      "outputs": []
    },
    {
      "cell_type": "code",
      "metadata": {
        "colab": {
          "base_uri": "https://localhost:8080/",
          "height": 206
        },
        "id": "I8hh11U97OVr",
        "outputId": "25a04b8a-4930-4e81-e0e2-73f04d90ca56"
      },
      "source": [
        "pred_df = pd.DataFrame({'Actual': y_cl_test, 'Predicted': y_pred_lstm.flatten()})\n",
        "pred_df.head()"
      ],
      "execution_count": null,
      "outputs": [
        {
          "output_type": "execute_result",
          "data": {
            "text/html": [
              "\n",
              "  <div id=\"df-30f61f90-6165-4bae-b60d-9755e5a11439\">\n",
              "    <div class=\"colab-df-container\">\n",
              "      <div>\n",
              "<style scoped>\n",
              "    .dataframe tbody tr th:only-of-type {\n",
              "        vertical-align: middle;\n",
              "    }\n",
              "\n",
              "    .dataframe tbody tr th {\n",
              "        vertical-align: top;\n",
              "    }\n",
              "\n",
              "    .dataframe thead th {\n",
              "        text-align: right;\n",
              "    }\n",
              "</style>\n",
              "<table border=\"1\" class=\"dataframe\">\n",
              "  <thead>\n",
              "    <tr style=\"text-align: right;\">\n",
              "      <th></th>\n",
              "      <th>Actual</th>\n",
              "      <th>Predicted</th>\n",
              "    </tr>\n",
              "  </thead>\n",
              "  <tbody>\n",
              "    <tr>\n",
              "      <th>0</th>\n",
              "      <td>218.96</td>\n",
              "      <td>223.049500</td>\n",
              "    </tr>\n",
              "    <tr>\n",
              "      <th>1</th>\n",
              "      <td>218.99</td>\n",
              "      <td>224.448837</td>\n",
              "    </tr>\n",
              "    <tr>\n",
              "      <th>2</th>\n",
              "      <td>220.68</td>\n",
              "      <td>226.137680</td>\n",
              "    </tr>\n",
              "    <tr>\n",
              "      <th>3</th>\n",
              "      <td>232.34</td>\n",
              "      <td>227.058807</td>\n",
              "    </tr>\n",
              "    <tr>\n",
              "      <th>4</th>\n",
              "      <td>235.52</td>\n",
              "      <td>226.811325</td>\n",
              "    </tr>\n",
              "  </tbody>\n",
              "</table>\n",
              "</div>\n",
              "      <button class=\"colab-df-convert\" onclick=\"convertToInteractive('df-30f61f90-6165-4bae-b60d-9755e5a11439')\"\n",
              "              title=\"Convert this dataframe to an interactive table.\"\n",
              "              style=\"display:none;\">\n",
              "        \n",
              "  <svg xmlns=\"http://www.w3.org/2000/svg\" height=\"24px\"viewBox=\"0 0 24 24\"\n",
              "       width=\"24px\">\n",
              "    <path d=\"M0 0h24v24H0V0z\" fill=\"none\"/>\n",
              "    <path d=\"M18.56 5.44l.94 2.06.94-2.06 2.06-.94-2.06-.94-.94-2.06-.94 2.06-2.06.94zm-11 1L8.5 8.5l.94-2.06 2.06-.94-2.06-.94L8.5 2.5l-.94 2.06-2.06.94zm10 10l.94 2.06.94-2.06 2.06-.94-2.06-.94-.94-2.06-.94 2.06-2.06.94z\"/><path d=\"M17.41 7.96l-1.37-1.37c-.4-.4-.92-.59-1.43-.59-.52 0-1.04.2-1.43.59L10.3 9.45l-7.72 7.72c-.78.78-.78 2.05 0 2.83L4 21.41c.39.39.9.59 1.41.59.51 0 1.02-.2 1.41-.59l7.78-7.78 2.81-2.81c.8-.78.8-2.07 0-2.86zM5.41 20L4 18.59l7.72-7.72 1.47 1.35L5.41 20z\"/>\n",
              "  </svg>\n",
              "      </button>\n",
              "      \n",
              "  <style>\n",
              "    .colab-df-container {\n",
              "      display:flex;\n",
              "      flex-wrap:wrap;\n",
              "      gap: 12px;\n",
              "    }\n",
              "\n",
              "    .colab-df-convert {\n",
              "      background-color: #E8F0FE;\n",
              "      border: none;\n",
              "      border-radius: 50%;\n",
              "      cursor: pointer;\n",
              "      display: none;\n",
              "      fill: #1967D2;\n",
              "      height: 32px;\n",
              "      padding: 0 0 0 0;\n",
              "      width: 32px;\n",
              "    }\n",
              "\n",
              "    .colab-df-convert:hover {\n",
              "      background-color: #E2EBFA;\n",
              "      box-shadow: 0px 1px 2px rgba(60, 64, 67, 0.3), 0px 1px 3px 1px rgba(60, 64, 67, 0.15);\n",
              "      fill: #174EA6;\n",
              "    }\n",
              "\n",
              "    [theme=dark] .colab-df-convert {\n",
              "      background-color: #3B4455;\n",
              "      fill: #D2E3FC;\n",
              "    }\n",
              "\n",
              "    [theme=dark] .colab-df-convert:hover {\n",
              "      background-color: #434B5C;\n",
              "      box-shadow: 0px 1px 3px 1px rgba(0, 0, 0, 0.15);\n",
              "      filter: drop-shadow(0px 1px 2px rgba(0, 0, 0, 0.3));\n",
              "      fill: #FFFFFF;\n",
              "    }\n",
              "  </style>\n",
              "\n",
              "      <script>\n",
              "        const buttonEl =\n",
              "          document.querySelector('#df-30f61f90-6165-4bae-b60d-9755e5a11439 button.colab-df-convert');\n",
              "        buttonEl.style.display =\n",
              "          google.colab.kernel.accessAllowed ? 'block' : 'none';\n",
              "\n",
              "        async function convertToInteractive(key) {\n",
              "          const element = document.querySelector('#df-30f61f90-6165-4bae-b60d-9755e5a11439');\n",
              "          const dataTable =\n",
              "            await google.colab.kernel.invokeFunction('convertToInteractive',\n",
              "                                                     [key], {});\n",
              "          if (!dataTable) return;\n",
              "\n",
              "          const docLinkHtml = 'Like what you see? Visit the ' +\n",
              "            '<a target=\"_blank\" href=https://colab.research.google.com/notebooks/data_table.ipynb>data table notebook</a>'\n",
              "            + ' to learn more about interactive tables.';\n",
              "          element.innerHTML = '';\n",
              "          dataTable['output_type'] = 'display_data';\n",
              "          await google.colab.output.renderOutput(dataTable, element);\n",
              "          const docLink = document.createElement('div');\n",
              "          docLink.innerHTML = docLinkHtml;\n",
              "          element.appendChild(docLink);\n",
              "        }\n",
              "      </script>\n",
              "    </div>\n",
              "  </div>\n",
              "  "
            ],
            "text/plain": [
              "   Actual   Predicted\n",
              "0  218.96  223.049500\n",
              "1  218.99  224.448837\n",
              "2  220.68  226.137680\n",
              "3  232.34  227.058807\n",
              "4  235.52  226.811325"
            ]
          },
          "metadata": {},
          "execution_count": 31
        }
      ]
    },
    {
      "cell_type": "code",
      "metadata": {
        "colab": {
          "base_uri": "https://localhost:8080/",
          "height": 483
        },
        "id": "Djo8EClj7URG",
        "outputId": "ad0cc726-c01a-4e98-9835-8ae95c976af9"
      },
      "source": [
        "plt.figure(figsize=(8,8))\n",
        "plt.ylabel('Close Price', fontsize=16)\n",
        "plt.plot(pred_df)\n",
        "plt.legend(['Actual Value', 'Predictions'])\n",
        "plt.show()"
      ],
      "execution_count": null,
      "outputs": [
        {
          "output_type": "display_data",
          "data": {
            "image/png": "[encoded data removed]",
            "text/plain": [
              "<Figure size 576x576 with 1 Axes>"
            ]
          },
          "metadata": {
            "needs_background": "light"
          }
        }
      ]
    },
    {
      "cell_type": "code",
      "metadata": {
        "id": "FtRw39uz_cOh"
      },
      "source": [
        "import pickle\n",
        "from keras.models import load_model\n",
        "# Save an existing model to file\n",
        "pickle.dump(svr_model, open(\"svr_model.pkl\", \"wb\"))\n",
        "pickle.dump(rs_model,open(\"RF_model.pkl\",\"wb\"))\n",
        "#model_1.save(\"LSTM_model_1.h5\")"
      ],
      "execution_count": null,
      "outputs": []
    },
    {
      "cell_type": "code",
      "metadata": {
        "id": "u4rbT1l-DGOT"
      },
      "source": [
        "# Load a saved model\n",
        "load_svr_model = pickle.load(open(\"svr_model.pkl\", \"rb\"))\n",
        "load_rf_model=pickle.load(open(\"RF_model.pkl\",\"rb\"))\n",
        "#model_1.load_model(\"LSTM_model.h5\")"
      ],
      "execution_count": null,
      "outputs": []
    },
    {
      "cell_type": "code",
      "metadata": {
        "id": "LYuIogJqzXqF"
      },
      "source": [
        "def demo():  \n",
        "  input_data=[]\n",
        "  open=float(input(\"nhap gia tri open: \"))\n",
        "  input_data.append(open)\n",
        "  high=float(input(\"nhap gia tri high: \"))\n",
        "  input_data.append(high)\n",
        "  low=float(input(\"nhap gia tri low: \"))\n",
        "  input_data.append(low)\n",
        "\n",
        "  input_data=np.asarray(input_data)\n",
        "  input_data=input_data.reshape(1,3)\n",
        "  pred2=svr_model.predict(input_data)\n",
        "  pred3=rs_model.predict(input_data)\n",
        "  \n",
        "  print(\"gia tri close du doan cua mo hinh SVR:\",pred2)\n",
        "  print(\"gia tri close du doan cua mo hinh RF:\",pred3)\n",
        "  print(\"gia tri close thuc te:\",y_test[1:2])\n",
        "  print(\" \")\n",
        "  # print(\"mo hinh LSTM voi timestep=30 can nhap 30 gia tri\")\n",
        "  # input_data1=[]\n",
        "  # for i in range (30):\n",
        "  #   close=float(input(\"nhap gia tri close: \"))\n",
        "  #   input_data1.append(close)\n",
        "  # input_data1=np.asarray(input_data1)\n",
        "  # input_data1=input_data1.reshape(1,30)\n",
        "  # pred1=model_1.predict(input_data1)\n",
        "  # print(\"gia tri close du doan cua mo hinh LSTM:\",pred1.flatten())\n",
        "  print(\"gia tri close thuc te:\",y_test[31])"
      ],
      "execution_count": null,
      "outputs": []
    },
    {
      "cell_type": "code",
      "metadata": {
        "id": "itkWVJ8w6qy5"
      },
      "source": [
        "y_test[0:30]"
      ],
      "execution_count": null,
      "outputs": []
    },
    {
      "cell_type": "code",
      "metadata": {
        "colab": {
          "base_uri": "https://localhost:8080/"
        },
        "id": "HngzK6uE7GbX",
        "outputId": "82b279d8-b1e9-41b2-e46f-d89c1c1a42a6"
      },
      "source": [
        "y_test[31]"
      ],
      "execution_count": null,
      "outputs": [
        {
          "output_type": "execute_result",
          "data": {
            "text/plain": [
              "216.78"
            ]
          },
          "metadata": {},
          "execution_count": 37
        }
      ]
    },
    {
      "cell_type": "code",
      "metadata": {
        "colab": {
          "base_uri": "https://localhost:8080/"
        },
        "id": "XBi82PHz0Wi9",
        "outputId": "ccf61939-bd2c-4f7f-dfd4-e1339578a5e1"
      },
      "source": [
        "X_test[1:2]"
      ],
      "execution_count": null,
      "outputs": [
        {
          "output_type": "execute_result",
          "data": {
            "text/plain": [
              "array([[0.54451491, 0.54890343, 0.56146399]])"
            ]
          },
          "metadata": {},
          "execution_count": 38
        }
      ]
    },
    {
      "cell_type": "code",
      "metadata": {
        "colab": {
          "base_uri": "https://localhost:8080/"
        },
        "id": "zOwhqcEG0KLW",
        "outputId": "9056a682-7975-4c05-8c17-93b7742df8c5"
      },
      "source": [
        "demo()"
      ],
      "execution_count": null,
      "outputs": [
        {
          "output_type": "stream",
          "name": "stdout",
          "text": [
            "nhap gia tri open: 21\n",
            "nhap gia tri high: 25\n",
            "nhap gia tri low: 23\n",
            "gia tri close du doan cua mo hinh SVR: [8627.38631533]\n",
            "gia tri close du doan cua mo hinh RF: [281.5695]\n",
            "gia tri close thuc te: Date\n",
            "2016-05-25    219.58\n",
            "Name: Close, dtype: float64\n",
            " \n",
            "mo hinh LSTM voi timestep=30 can nhap 30 gia tri\n",
            "nhap gia tri close: 23\n",
            "nhap gia tri close: 25\n",
            "nhap gia tri close: 24\n",
            "nhap gia tri close: 12\n",
            "nhap gia tri close: 26\n",
            "nhap gia tri close: 24\n",
            "nhap gia tri close: 28\n",
            "nhap gia tri close: 29\n",
            "nhap gia tri close: 287\n",
            "nhap gia tri close: 27\n",
            "nhap gia tri close: 28\n",
            "nhap gia tri close: 29\n",
            "nhap gia tri close: 24\n",
            "nhap gia tri close: 26\n",
            "nhap gia tri close: 28\n",
            "nhap gia tri close: 22\n",
            "nhap gia tri close: 24\n",
            "nhap gia tri close: 6\n",
            "nhap gia tri close: 27\n",
            "nhap gia tri close: 28\n",
            "nhap gia tri close: 24\n",
            "nhap gia tri close: 26\n",
            "nhap gia tri close: 23\n",
            "nhap gia tri close: 24\n",
            "nhap gia tri close: 24\n",
            "nhap gia tri close: 21\n",
            "nhap gia tri close: 25\n",
            "nhap gia tri close: 26\n",
            "nhap gia tri close: 22\n",
            "nhap gia tri close: 22\n",
            "gia tri close du doan cua mo hinh LSTM: [8627.38631533]\n",
            "gia tri close thuc te: 216.78\n"
          ]
        }
      ]
    }
  ]
}